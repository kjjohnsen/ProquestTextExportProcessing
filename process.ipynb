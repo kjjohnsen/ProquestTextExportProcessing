{
 "cells": [
  {
   "cell_type": "code",
   "execution_count": 81,
   "id": "b9f8e6c4-d1ed-49fc-9a2e-241fe57f67c0",
   "metadata": {},
   "outputs": [],
   "source": [
    "import glob\n",
    "from pathlib import Path \n",
    "import re\n",
    "import pandas as pd"
   ]
  },
  {
   "cell_type": "markdown",
   "id": "070541d3-03ff-4a26-ac3b-6e9e60998673",
   "metadata": {},
   "source": [
    "Our goal here is to make a spreadsheet of useful information from proquest text exports.  The text exports seem to contain more useful information than the spreadsheet exports, for whatever reason. "
   ]
  },
  {
   "cell_type": "markdown",
   "id": "198131bc-9bae-4089-8f66-8ea429f41055",
   "metadata": {},
   "source": [
    "The format of the file is an underscore delimiter between sections, a title, and then key value pairs with new lines in between. There's also a bit of work to separate out links, which appear in a series.  The below function turns a section into a dictionary of key-value pairs."
   ]
  },
  {
   "cell_type": "code",
   "execution_count": 105,
   "id": "d891564c-0d7c-4b19-ae58-fbdf5b37fb43",
   "metadata": {},
   "outputs": [],
   "source": [
    "def parseProquestDissertation(txt):\n",
    "    toReturn = {}\n",
    "    lines = txt.split(\"\\n\")\n",
    "    #toReturn['title'] = lines[2] #this is the title, but we get this again, so ignore\n",
    "    for l in lines[3:]: #rest of the lines are key-value pairs\n",
    "        res = re.search(\"^(.*?):(.*)$\",l) #split as key:value\n",
    "        if res: #some of the lines are invalid (new-lines) so we have to make sure the regex parses\n",
    "            key = res.group(1)\n",
    "            value = res.group(2)\n",
    "            if key=='http': #must deal with http, which looks like a section, but is really just another link\n",
    "                toReturn['Links'] = toReturn['Links'] + \"\\n\" + key+\":\"+value\n",
    "            elif key=='https': #this seems to be just a direct reference, add as such\n",
    "                toReturn['Link'] = key + \":\" + value\n",
    "            else:\n",
    "                toReturn[key] = value #put in dictionary if it is a valid key-value pair\n",
    "    return toReturn"
   ]
  },
  {
   "cell_type": "markdown",
   "id": "a5e5cdd2-8e1d-4e48-97cd-829fb5b688ce",
   "metadata": {},
   "source": [
    "This is the main function.  Put all text files, organized by file name, which will become the filename.csv, and are best organized by search term, in the data folder.  "
   ]
  },
  {
   "cell_type": "code",
   "execution_count": 106,
   "id": "f75d5277-7c21-450e-8ff9-0d5318d572f5",
   "metadata": {},
   "outputs": [
    {
     "name": "stdout",
     "output_type": "stream",
     "text": [
      "Parsing 92 sections\n"
     ]
    }
   ],
   "source": [
    "files = glob.glob('data/*.txt')  #get all files by txt extension\n",
    "for path in files:  \n",
    "    file_stem = Path(path).stem #we use the stem (first part of the filename) as the stem of the csv\n",
    "    with open(path,mode='r') as fd:\n",
    "        text_contents = fd.read()\n",
    "        sections = text_contents.split('____________________________________________________________') #default delimiter...probably is a smarter way to split this\n",
    "        valid_sections = sections[1:-1] #invalid sections at the beginning and end after the split, so ignore them\n",
    "        print(f\"Parsing { len(valid_sections) } sections\")\n",
    "        parsed_sections = map(parseProquestDissertation,valid_sections)\n",
    "        df = pd.DataFrame(parsed_sections)\n",
    "        df.to_csv('data/'+file_stem+\".csv\")\n",
    "                                                                    \n",
    "    \n",
    "    "
   ]
  },
  {
   "cell_type": "code",
   "execution_count": null,
   "id": "2c97dc0d-8acf-4ff6-b9aa-5da1437ebdcb",
   "metadata": {},
   "outputs": [],
   "source": []
  }
 ],
 "metadata": {
  "kernelspec": {
   "display_name": "Python 3 (ipykernel)",
   "language": "python",
   "name": "python3"
  },
  "language_info": {
   "codemirror_mode": {
    "name": "ipython",
    "version": 3
   },
   "file_extension": ".py",
   "mimetype": "text/x-python",
   "name": "python",
   "nbconvert_exporter": "python",
   "pygments_lexer": "ipython3",
   "version": "3.8.3"
  }
 },
 "nbformat": 4,
 "nbformat_minor": 5
}
